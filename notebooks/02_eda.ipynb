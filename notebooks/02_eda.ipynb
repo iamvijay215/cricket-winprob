{
 "cells": [
  {
   "cell_type": "code",
   "execution_count": 3,
   "id": "2fc6f5be-b6be-4bac-ab71-a91ff6e68db1",
   "metadata": {},
   "outputs": [],
   "source": [
    "import sys\n",
    "from pathlib import Path\n",
    "\n",
    "# add src/ folder to Python path so we can import config\n",
    "sys.path.append(str(Path.cwd().parents[0] / \"src\"))\n",
    "import config as C"
   ]
  },
  {
   "cell_type": "code",
   "execution_count": 5,
   "id": "3fbf7bbe-da73-4b7e-bee9-6e99eac241fa",
   "metadata": {},
   "outputs": [],
   "source": [
    "import pandas as pd\n",
    "\n",
    "matches = pd.read_csv(C.MATCHES_CLEAN)\n",
    "deliveries = pd.read_csv(C.DELIV_CLEAN)"
   ]
  },
  {
   "cell_type": "code",
   "execution_count": null,
   "id": "a12af0ed-6418-4e19-bee3-be5d9c517a06",
   "metadata": {},
   "outputs": [],
   "source": []
  }
 ],
 "metadata": {
  "kernelspec": {
   "display_name": "Python [conda env:cricket]",
   "language": "python",
   "name": "conda-env-cricket-py"
  },
  "language_info": {
   "codemirror_mode": {
    "name": "ipython",
    "version": 3
   },
   "file_extension": ".py",
   "mimetype": "text/x-python",
   "name": "python",
   "nbconvert_exporter": "python",
   "pygments_lexer": "ipython3",
   "version": "3.11.13"
  }
 },
 "nbformat": 4,
 "nbformat_minor": 5
}
