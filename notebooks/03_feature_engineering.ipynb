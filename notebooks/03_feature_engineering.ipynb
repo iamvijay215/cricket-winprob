{
 "cells": [
  {
   "cell_type": "markdown",
   "id": "79b884a8",
   "metadata": {},
   "source": [
    "🎯 Feature Engineering Overview\n",
    "\n",
    "We have two problem statements:\n",
    "\t1.\tFirst Innings Score Prediction (Regression)\n",
    "    \n",
    "\t•\tDependent variable (target) = Final innings total runs.\n",
    "    \n",
    "\t•\tIndependent variables (features) = match state during first innings (overs, wickets, teams, venue, run rate, etc.).\n",
    "    \n",
    "\t.\tSecond Innings Win Probability (Classification)\n",
    "    \n",
    "\t•\tDependent variable (target) = Binary outcome (1 if chasing team wins, 0 if loses).\n",
    "    \n",
    "\t•\tIndependent variables (features) = chase state (runs required, balls left, wickets in hand, run rate vs required run rate, venue, teams)."
   ]
  },
  {
   "cell_type": "code",
   "execution_count": 7,
   "id": "c73dd533-79d1-4efc-a4d3-319db127791a",
   "metadata": {},
   "outputs": [],
   "source": [
    "import sys\n",
    "from pathlib import Path\n",
    "\n",
    "# add src/ folder to Python path so we can import config\n",
    "sys.path.append(str(Path.cwd().parents[0] / \"src\"))\n",
    "import config as C"
   ]
  },
  {
   "cell_type": "code",
   "execution_count": 8,
   "id": "2fb1157f-2735-4348-b60f-df6c5fa2c957",
   "metadata": {},
   "outputs": [],
   "source": [
    "import pandas as pd\n",
    "\n",
    "matches = pd.read_csv(C.MATCHES_CLEAN)\n",
    "deliveries = pd.read_csv(C.DELIV_CLEAN)"
   ]
  },
  {
   "cell_type": "markdown",
   "id": "5bf1fd6a",
   "metadata": {},
   "source": [
    "Step 1: Load cleaned data\n",
    "    \n",
    "Step 2: Create “final score” for each innings\n",
    "    \n",
    "Step 3: Build independent features\n",
    "    \n",
    "Step 4: Encode categorical features\n",
    "    \n",
    "🏏 Part 2: Second Innings Win Probability\n",
    "\n",
    "👉 Why? Predict whether chasing team will win (with probability %) based on current chase state.\n",
    "\n",
    "⸻\n",
    "\n",
    "Step 1: Get second innings deliveries\n",
    "\n",
    "Step 2: Merge with match results\n",
    "    \n",
    "Step 3: Build chase state features\n",
    "\n",
    "👉 Why each?\n",
    "\t•\truns_required = how many runs left.\n",
    "\t•\tballs_left = how many balls left.\n",
    "\t•\twickets_left = chasing resource.\n",
    "\t•\tcurrent_run_rate (CRR) = batting form.\n",
    "\t•\trequired_run_rate (RRR) = pressure measure.\n",
    "    \n",
    "Step 4: Target variable (win/loss)\n",
    "\n",
    "👉 Binary outcome → Did chasing team = winner?\n",
    "\n",
    "Step 5: Select final dataset\n",
    "    \n",
    "✅ Now you have:\n",
    "\t•\tX_second = features (chase state)\n",
    "\t•\ty_second = target (binary win/loss)\n",
    "\n",
    "This dataset is ready for classification models like Logistic Regression, Random Forest, or XGBoost.\n",
    "\n",
    "📌 Recap\n",
    "\t•\tDependent variable (y) = what we predict (score or win/loss).\n",
    "\t•\tIndependent variables (X) = features that describe the state of the game.\n",
    "\t•\tWhy: Each feature is chosen because it reflects cricket strategy (runs left, overs left, wickets left, etc.)."
   ]
  },
  {
   "cell_type": "markdown",
   "id": "c1d01268",
   "metadata": {},
   "source": [
    "🏏 1. First Innings Score Prediction (Projected Score)\n",
    "\n",
    "👉 Goal: After each delivery in the first innings, predict what the final score will be.\n",
    "\n",
    "🔹 Key Factors Cricinfo (and we) consider\n",
    "\t1.\tRuns so far\n",
    "\t•\tThe strongest baseline predictor. A team with 80/2 after 10 overs has a very different trajectory from 40/4.\n",
    "\t2.\tOvers left & balls faced\n",
    "\t•\tContext: A team at 80/2 after 10 overs vs 80/2 after 15 overs → very different outcomes.\n",
    "\t•\tRun rate accelerates at different phases (powerplay vs death overs).\n",
    "\t3.\tWickets in hand\n",
    "\t•\tThis changes everything.\n",
    "\t•\t90/1 in 10 overs → can aim for 180–200.\n",
    "\t•\t90/5 in 10 overs → may struggle to reach 150.\n",
    "\t•\tModels learn this “risk appetite” from history.\n",
    "\t4.\tCurrent Run Rate (CRR)\n",
    "\t•\tIndicator of how aggressively a team is scoring right now.\n",
    "\t5.\tRun Rate by Phase\n",
    "\t•\tPowerplay (overs 1–6): high scoring opportunities.\n",
    "\t•\tMiddle overs (7–15): often slower.\n",
    "\t•\tDeath overs (16–20): acceleration.\n",
    "\t•\tCricinfo models learn phase-based expected runs.\n",
    "\t6.\tVenue factor (Ground size, pitch condition)\n",
    "\t•\tWankhede (Mumbai) → high scoring ground.\n",
    "\t•\tChepauk (Chennai) → slower pitch, lower scores.\n",
    "\t•\tHistorical average scores at venue feed into the model.\n",
    "\t7.\tOpposition bowling strength\n",
    "\t•\tIf Bumrah + Rashid Khan are bowling, projections are lower.\n",
    "\t•\tIf part-timers bowl death overs, projections rise.\n",
    "\t•\tCricinfo has detailed player stats → we simplify by encoding bowling team.\n",
    "\t8.\tBatting team strength\n",
    "\t•\tRCB batting with AB de Villiers at the crease is different from a weaker lineup.\n",
    "\t•\tAt minimum, we capture batting team identity.\n",
    "\t9.\tMatch conditions (weather, dew, DLS)\n",
    "\t•\tDew at night → easier for batters.\n",
    "\t•\tRain interruptions → Duckworth–Lewis."
   ]
  },
  {
   "cell_type": "markdown",
   "id": "7845971c",
   "metadata": {},
   "source": [
    "🏏 2. Second Innings Win Probability (Chase Predictor)\n",
    "\n",
    "👉 Goal: After each delivery in a chase, predict probability that chasing team will win.\n",
    "\n",
    "🔹 Key Factors Cricinfo uses\n",
    "\t1.\tTarget vs Runs Required\n",
    "\t•\tMost critical feature. How many runs left to chase.\n",
    "\t2.\tBalls Left\n",
    "\t•\tDirectly interacts with runs required → Run Required Rate (RRR).\n",
    "\t3.\tWickets in Hand\n",
    "\t•\tThis acts like “lives left in a video game.”\n",
    "\t•\t40 runs needed off 24 balls with 8 wickets = very different from with 2 wickets.\n",
    "\t4.\tCurrent Run Rate (CRR)\n",
    "\t•\tIf team is already scoring fast, probability increases.\n",
    "\t•\tIf behind required rate, probability drops.\n",
    "\t5.\tRequired Run Rate (RRR)\n",
    "\t•\tRatio of CRR vs RRR is crucial:\n",
    "\t•\tCRR > RRR → team likely on track.\n",
    "\t•\tCRR < RRR → pressure mounts.\n",
    "\t6.\tMomentum (last 1–2 overs)\n",
    "\t•\tExample: if 20 runs came in last over, model may increase probability.\n",
    "\t•\tCaptures short-term dynamics.\n",
    "\t7.\tVenue factor (chasing bias)\n",
    "\t•\tSome grounds (e.g., Eden Gardens) are better for chasing because of dew or short boundaries.\n",
    "\t8.\tHistorical chase difficulty\n",
    "\t•\tCricinfo uses historical win percentages for similar chase situations.\n",
    "\t•\tExample: “In IPL history, teams chasing 50 off last 30 balls with 6 wickets have won 62% of times.”\n",
    "\t9.\tBatting lineup strength\n",
    "\t•\tIf MS Dhoni is batting at death overs, win probability is higher.\n",
    "\t•\tCricinfo incorporates player-specific models.\n",
    "\t•\tIn our simpler model → just encode batting/bowling team.\n",
    "\t10.\tBowler quality / overs left\n",
    "\n",
    "\t•\tStill having Bumrah overs left = chasing probability drops.\n",
    "\t•\tCricinfo uses ball-by-ball bowler matchup stats."
   ]
  },
  {
   "cell_type": "code",
   "execution_count": 9,
   "id": "494adc30",
   "metadata": {},
   "outputs": [
    {
     "data": {
      "text/plain": [
       "((636, 17), (150460, 22))"
      ]
     },
     "execution_count": 9,
     "metadata": {},
     "output_type": "execute_result"
    }
   ],
   "source": [
    "matches.shape, deliveries.shape"
   ]
  },
  {
   "cell_type": "markdown",
   "id": "ae017bbe",
   "metadata": {},
   "source": [
    "2️⃣ First Innings Score Prediction Dataset\n",
    "\n",
    "👉 Goal: Build dataset where each row = one first innings,\n",
    "\t•\tTarget (y) = final score.\n",
    "\t•\tFeatures (X) = team, opponent, venue, season."
   ]
  },
  {
   "cell_type": "code",
   "execution_count": 2,
   "id": "6e5eb3e9",
   "metadata": {},
   "outputs": [
    {
     "data": {
      "text/plain": [
       "((636, 17), (150460, 22))"
      ]
     },
     "execution_count": 2,
     "metadata": {},
     "output_type": "execute_result"
    }
   ],
   "source": [
    "# ----- Cell 1: Imports and setup -----\n",
    "import sys\n",
    "from pathlib import Path\n",
    "sys.path.append(str(Path.cwd().parents[0] / \"src\"))   # access config.py\n",
    "\n",
    "import config as C\n",
    "import pandas as pd\n",
    "import numpy as np\n",
    "\n",
    "# ----- Cell 2: Load cleaned datasets -----\n",
    "matches = pd.read_csv(C.MATCHES_CLEAN)\n",
    "deliveries = pd.read_csv(C.DELIV_CLEAN)\n",
    "\n",
    "matches.shape, deliveries.shape"
   ]
  },
  {
   "cell_type": "markdown",
   "id": "843c66bf",
   "metadata": {},
   "source": [
    "#### Step 2. Prepare First Innings Dataset (Score Prediction)\n",
    "\n",
    "We want:\n",
    "\t•\tTarget (y): Final score of first innings\n",
    "\t•\tFeatures (X): Batting team, bowling team, venue, season"
   ]
  },
  {
   "cell_type": "code",
   "execution_count": 4,
   "id": "2c3575a9",
   "metadata": {},
   "outputs": [
    {
     "name": "stdout",
     "output_type": "stream",
     "text": [
      "['batting_team', 'bowling_team', 'final_score', 'id', 'inning', 'match_id', 'season', 'total_runs', 'venue']\n"
     ]
    },
    {
     "data": {
      "text/plain": [
       "(                  batting_team                 bowling_team  \\\n",
       " 0          Sunrisers Hyderabad  Royal Challengers Bangalore   \n",
       " 2               Mumbai Indians       Rising Pune Supergiant   \n",
       " 4                Gujarat Lions        Kolkata Knight Riders   \n",
       " 6       Rising Pune Supergiant              Kings XI Punjab   \n",
       " 8  Royal Challengers Bangalore             Delhi Daredevils   \n",
       " \n",
       "                                        venue  season  \n",
       " 0  Rajiv Gandhi International Stadium, Uppal    2017  \n",
       " 2    Maharashtra Cricket Association Stadium    2017  \n",
       " 4     Saurashtra Cricket Association Stadium    2017  \n",
       " 6                     Holkar Cricket Stadium    2017  \n",
       " 8                      M Chinnaswamy Stadium    2017  ,\n",
       " 0    207\n",
       " 2    184\n",
       " 4    183\n",
       " 6    163\n",
       " 8    157\n",
       " Name: final_score, dtype: int64)"
      ]
     },
     "execution_count": 4,
     "metadata": {},
     "output_type": "execute_result"
    }
   ],
   "source": [
    "# ----- FIX: add batting/bowling teams per (match_id, inning) -----\n",
    "# We take the *first* ball of each (match, inning) to capture batting/bowling teams for that inning\n",
    "innings_meta = (deliveries\n",
    "                .sort_values([\"match_id\",\"inning\",\"over\",\"ball\"])\n",
    "                .groupby([\"match_id\",\"inning\"], as_index=False)\n",
    "                .agg(batting_team=(\"batting_team\",\"first\"),\n",
    "                     bowling_team=(\"bowling_team\",\"first\")))\n",
    "\n",
    "# Total runs per (match_id, inning) as before\n",
    "innings_runs = (deliveries\n",
    "                .groupby([\"match_id\", \"inning\"])[\"total_runs\"]\n",
    "                .sum()\n",
    "                .reset_index())\n",
    "\n",
    "# Bring it all together: runs + inning meta + match context (venue, season)\n",
    "innings_data = (innings_runs\n",
    "                .merge(innings_meta, on=[\"match_id\",\"inning\"], how=\"left\")\n",
    "                .merge(matches[[\"id\",\"venue\",\"season\"]], left_on=\"match_id\", right_on=\"id\", how=\"left\"))\n",
    "\n",
    "# Keep only first innings\n",
    "first_innings = innings_data[innings_data[\"inning\"] == 1].copy()\n",
    "\n",
    "# Target variable = final total\n",
    "first_innings[\"final_score\"] = first_innings[\"total_runs\"]\n",
    "\n",
    "# Sanity check: do we have the columns now?\n",
    "print(sorted(first_innings.columns))\n",
    "\n",
    "# ----- Now select features safely -----\n",
    "X_first = first_innings[[\"batting_team\", \"bowling_team\", \"venue\", \"season\"]]\n",
    "y_first = first_innings[\"final_score\"]\n",
    "\n",
    "X_first.head(), y_first.head()"
   ]
  },
  {
   "cell_type": "markdown",
   "id": "8a75f526",
   "metadata": {},
   "source": [
    "#### Step 3. Encode Categorical Features"
   ]
  },
  {
   "cell_type": "code",
   "execution_count": 5,
   "id": "c53f4610",
   "metadata": {},
   "outputs": [
    {
     "data": {
      "text/plain": [
       "((636, 71), (636,))"
      ]
     },
     "execution_count": 5,
     "metadata": {},
     "output_type": "execute_result"
    }
   ],
   "source": [
    "from sklearn.preprocessing import OneHotEncoder\n",
    "\n",
    "encoder = OneHotEncoder(sparse_output=False, handle_unknown=\"ignore\")\n",
    "X_encoded = encoder.fit_transform(X_first)\n",
    "\n",
    "X_first_encoded = pd.DataFrame(X_encoded, columns=encoder.get_feature_names_out(X_first.columns))\n",
    "\n",
    "X_first_encoded.shape, y_first.shape"
   ]
  },
  {
   "cell_type": "markdown",
   "id": "b76454a6",
   "metadata": {},
   "source": [
    "#### Step 4. Prepare Second Innings Dataset (Win Probability)"
   ]
  },
  {
   "cell_type": "code",
   "execution_count": 6,
   "id": "216ad936",
   "metadata": {},
   "outputs": [],
   "source": [
    "# Now we’ll build the ball-by-ball features that represent the current state of a chase.\n",
    "# ----- Cell 5: Filter 2nd innings -----\n",
    "\n",
    "second_innings = deliveries[deliveries[\"inning\"] == 2].copy()\n",
    "\n",
    "# Merge with match info to get winner/team data\n",
    "second_innings = second_innings.merge(matches[[\"id\",\"winner\",\"team1\",\"team2\"]],\n",
    "                                      left_on=\"match_id\", right_on=\"id\")"
   ]
  },
  {
   "cell_type": "markdown",
   "id": "c4ebdb94",
   "metadata": {},
   "source": [
    "#### Step 5. Compute “Chase State” Features\n",
    "\n",
    "These are the core features used by Cricinfo-like win predictors."
   ]
  },
  {
   "cell_type": "code",
   "execution_count": 9,
   "id": "f193c0f3",
   "metadata": {},
   "outputs": [
    {
     "name": "stdout",
     "output_type": "stream",
     "text": [
      "Missing targets after merge: 0\n"
     ]
    },
    {
     "data": {
      "text/html": [
       "<div>\n",
       "<style scoped>\n",
       "    .dataframe tbody tr th:only-of-type {\n",
       "        vertical-align: middle;\n",
       "    }\n",
       "\n",
       "    .dataframe tbody tr th {\n",
       "        vertical-align: top;\n",
       "    }\n",
       "\n",
       "    .dataframe thead th {\n",
       "        text-align: right;\n",
       "    }\n",
       "</style>\n",
       "<table border=\"1\" class=\"dataframe\">\n",
       "  <thead>\n",
       "    <tr style=\"text-align: right;\">\n",
       "      <th></th>\n",
       "      <th>match_id</th>\n",
       "      <th>runs_so_far</th>\n",
       "      <th>target</th>\n",
       "      <th>runs_required</th>\n",
       "      <th>balls_bowled</th>\n",
       "      <th>balls_left</th>\n",
       "      <th>wickets_left</th>\n",
       "      <th>crr</th>\n",
       "      <th>rrr</th>\n",
       "    </tr>\n",
       "  </thead>\n",
       "  <tbody>\n",
       "    <tr>\n",
       "      <th>0</th>\n",
       "      <td>1</td>\n",
       "      <td>1</td>\n",
       "      <td>207</td>\n",
       "      <td>206</td>\n",
       "      <td>1</td>\n",
       "      <td>119</td>\n",
       "      <td>10</td>\n",
       "      <td>6.0</td>\n",
       "      <td>10.386555</td>\n",
       "    </tr>\n",
       "    <tr>\n",
       "      <th>1</th>\n",
       "      <td>1</td>\n",
       "      <td>1</td>\n",
       "      <td>207</td>\n",
       "      <td>206</td>\n",
       "      <td>2</td>\n",
       "      <td>118</td>\n",
       "      <td>10</td>\n",
       "      <td>3.0</td>\n",
       "      <td>10.474576</td>\n",
       "    </tr>\n",
       "    <tr>\n",
       "      <th>2</th>\n",
       "      <td>1</td>\n",
       "      <td>1</td>\n",
       "      <td>207</td>\n",
       "      <td>206</td>\n",
       "      <td>3</td>\n",
       "      <td>117</td>\n",
       "      <td>10</td>\n",
       "      <td>2.0</td>\n",
       "      <td>10.564103</td>\n",
       "    </tr>\n",
       "    <tr>\n",
       "      <th>3</th>\n",
       "      <td>1</td>\n",
       "      <td>3</td>\n",
       "      <td>207</td>\n",
       "      <td>204</td>\n",
       "      <td>4</td>\n",
       "      <td>116</td>\n",
       "      <td>10</td>\n",
       "      <td>4.5</td>\n",
       "      <td>10.551724</td>\n",
       "    </tr>\n",
       "    <tr>\n",
       "      <th>4</th>\n",
       "      <td>1</td>\n",
       "      <td>7</td>\n",
       "      <td>207</td>\n",
       "      <td>200</td>\n",
       "      <td>5</td>\n",
       "      <td>115</td>\n",
       "      <td>10</td>\n",
       "      <td>8.4</td>\n",
       "      <td>10.434783</td>\n",
       "    </tr>\n",
       "  </tbody>\n",
       "</table>\n",
       "</div>"
      ],
      "text/plain": [
       "   match_id  runs_so_far  target  runs_required  balls_bowled  balls_left  \\\n",
       "0         1            1     207            206             1         119   \n",
       "1         1            1     207            206             2         118   \n",
       "2         1            1     207            206             3         117   \n",
       "3         1            3     207            204             4         116   \n",
       "4         1            7     207            200             5         115   \n",
       "\n",
       "   wickets_left  crr        rrr  \n",
       "0            10  6.0  10.386555  \n",
       "1            10  3.0  10.474576  \n",
       "2            10  2.0  10.564103  \n",
       "3            10  4.5  10.551724  \n",
       "4            10  8.4  10.434783  "
      ]
     },
     "execution_count": 9,
     "metadata": {},
     "output_type": "execute_result"
    }
   ],
   "source": [
    "import numpy as np\n",
    "\n",
    "# --- Make sure we’re only using the normal two innings (ignore super overs if any) ---\n",
    "deliveries_clean = deliveries[deliveries[\"inning\"].isin([1, 2])].copy()\n",
    "\n",
    "# --- 2nd-innings deliveries ---\n",
    "second_innings = deliveries_clean[deliveries_clean[\"inning\"] == 2].copy()\n",
    "\n",
    "# attach winner/team info\n",
    "second_innings = second_innings.merge(\n",
    "    matches[[\"id\", \"winner\", \"team1\", \"team2\", \"season\"]],\n",
    "    left_on=\"match_id\", right_on=\"id\", how=\"left\"\n",
    ")\n",
    "\n",
    "# --- runs_so_far (cumulative for the chase) ---\n",
    "second_innings[\"runs_so_far\"] = (\n",
    "    second_innings.groupby(\"match_id\")[\"total_runs\"].cumsum()\n",
    ")\n",
    "\n",
    "# --- build targets from the FIRST innings totals ---\n",
    "targets = (\n",
    "    deliveries_clean[deliveries_clean[\"inning\"] == 1]\n",
    "    .groupby(\"match_id\", as_index=False)[\"total_runs\"].sum()\n",
    "    .rename(columns={\"total_runs\": \"target\"})\n",
    ")\n",
    "\n",
    "# defensive: if a column named 'target' somehow exists already in second_innings, drop it\n",
    "if \"target\" in second_innings.columns:\n",
    "    second_innings = second_innings.drop(columns=[\"target\"])\n",
    "\n",
    "# merge targets (one target per match)\n",
    "second_innings = second_innings.merge(\n",
    "    targets, on=\"match_id\", how=\"left\", validate=\"many_to_one\"\n",
    ")\n",
    "\n",
    "# quick sanity check: should be 0\n",
    "n_missing_target = second_innings[\"target\"].isna().sum()\n",
    "print(\"Missing targets after merge:\", n_missing_target)\n",
    "\n",
    "# --- runs_required ---\n",
    "second_innings[\"runs_required\"] = second_innings[\"target\"] - second_innings[\"runs_so_far\"]\n",
    "\n",
    "# --- balls_bowled and balls_left ---\n",
    "# Ensure over & ball are integers (if they aren't already)\n",
    "second_innings[\"over\"] = second_innings[\"over\"].astype(int)\n",
    "second_innings[\"ball\"] = second_innings[\"ball\"].astype(int)\n",
    "\n",
    "second_innings[\"balls_bowled\"] = (second_innings[\"over\"] - 1) * 6 + second_innings[\"ball\"]\n",
    "second_innings[\"balls_left\"] = 120 - second_innings[\"balls_bowled\"]\n",
    "\n",
    "# clamp negative balls_left (rare data quirks)\n",
    "second_innings[\"balls_left\"] = second_innings[\"balls_left\"].clip(lower=0)\n",
    "\n",
    "# --- wickets_left ---\n",
    "# If your cleaning didn’t create 'is_wicket', compute it now\n",
    "if \"is_wicket\" not in second_innings.columns:\n",
    "    # count as wicket if dismissal_kind is set and not 'retired hurt'\n",
    "    second_innings[\"is_wicket\"] = (\n",
    "        second_innings[\"dismissal_kind\"].notna() &\n",
    "        (second_innings[\"dismissal_kind\"].str.lower() != \"retired hurt\")\n",
    "    ).astype(int)\n",
    "\n",
    "second_innings[\"wickets_left\"] = 10 - second_innings.groupby(\"match_id\")[\"is_wicket\"].cumsum()\n",
    "\n",
    "# --- CRR & RRR (guard against divide-by-zero) ---\n",
    "# CRR = runs_so_far / overs_bowled * 6  (we compute via balls to be precise)\n",
    "second_innings[\"crr\"] = np.where(\n",
    "    second_innings[\"balls_bowled\"] > 0,\n",
    "    (second_innings[\"runs_so_far\"] / second_innings[\"balls_bowled\"]) * 6,\n",
    "    0.0\n",
    ")\n",
    "\n",
    "# RRR = runs_required / overs_left * 6  (guard when balls_left == 0)\n",
    "second_innings[\"rrr\"] = np.where(\n",
    "    second_innings[\"balls_left\"] > 0,\n",
    "    (second_innings[\"runs_required\"] / second_innings[\"balls_left\"]) * 6,\n",
    "    np.inf  # if no balls left but still runs needed → effectively infinite RRR\n",
    ")\n",
    "\n",
    "# final inspect\n",
    "second_innings[[\"match_id\",\"runs_so_far\",\"target\",\"runs_required\",\"balls_bowled\",\"balls_left\",\"wickets_left\",\"crr\",\"rrr\"]].head()"
   ]
  },
  {
   "cell_type": "code",
   "execution_count": 10,
   "id": "d2d5bd0a",
   "metadata": {},
   "outputs": [
    {
     "data": {
      "text/plain": [
       "(   runs_required  balls_left  wickets_left  crr        rrr\n",
       " 0            206         119            10  6.0  10.386555\n",
       " 1            206         118            10  3.0  10.474576\n",
       " 2            206         117            10  2.0  10.564103\n",
       " 3            204         116            10  4.5  10.551724\n",
       " 4            200         115            10  8.4  10.434783,\n",
       " 0    0\n",
       " 1    0\n",
       " 2    0\n",
       " 3    0\n",
       " 4    0\n",
       " Name: won, dtype: int64)"
      ]
     },
     "execution_count": 10,
     "metadata": {},
     "output_type": "execute_result"
    }
   ],
   "source": [
    "# target: did the chasing team win?\n",
    "second_innings[\"chasing_team\"] = second_innings[\"batting_team\"]\n",
    "second_innings[\"won\"] = (second_innings[\"chasing_team\"] == second_innings[\"winner\"]).astype(int)\n",
    "\n",
    "X_second = second_innings[[\"runs_required\", \"balls_left\", \"wickets_left\", \"crr\", \"rrr\"]]\n",
    "y_second = second_innings[\"won\"]\n",
    "\n",
    "X_second.head(), y_second.head()"
   ]
  },
  {
   "cell_type": "markdown",
   "id": "919427d2",
   "metadata": {},
   "source": [
    "#### Step 7. Save Processed Data\n",
    "\n",
    "So you can use it directly in your modeling notebook next."
   ]
  },
  {
   "cell_type": "code",
   "execution_count": 11,
   "id": "e04dd892",
   "metadata": {},
   "outputs": [
    {
     "name": "stdout",
     "output_type": "stream",
     "text": [
      "Feature datasets saved in: /Users/vijay/Documents/G2i/ML Project/cricket-winprob/data/processed\n"
     ]
    }
   ],
   "source": [
    "# Save processed feature sets\n",
    "X_first_encoded.to_csv(C.PROC / \"X_first.csv\", index=False)\n",
    "y_first.to_csv(C.PROC / \"y_first.csv\", index=False)\n",
    "X_second.to_csv(C.PROC / \"X_second.csv\", index=False)\n",
    "y_second.to_csv(C.PROC / \"y_second.csv\", index=False)\n",
    "\n",
    "print(\"Feature datasets saved in:\", C.PROC)"
   ]
  },
  {
   "cell_type": "code",
   "execution_count": 14,
   "id": "63ecd2ea",
   "metadata": {},
   "outputs": [
    {
     "name": "stdout",
     "output_type": "stream",
     "text": [
      "Clean shapes: (72350, 5) (72350,)\n",
      "Any inf left? False Any NaN left? False\n"
     ]
    },
    {
     "name": "stderr",
     "output_type": "stream",
     "text": [
      "/var/folders/28/8139nxnx4sd1tkkt3bydf4d00000gn/T/ipykernel_19586/4042066833.py:19: FutureWarning: A value is trying to be set on a copy of a DataFrame or Series through chained assignment using an inplace method.\n",
      "The behavior will change in pandas 3.0. This inplace method will never work because the intermediate object on which we are setting values always behaves as a copy.\n",
      "\n",
      "For example, when doing 'df[col].method(value, inplace=True)', try using 'df.method({col: value}, inplace=True)' or df[col] = df[col].method(value) instead, to perform the operation inplace on the original object.\n",
      "\n",
      "\n",
      "  second_innings[col].replace([np.inf, -np.inf], np.nan, inplace=True)\n"
     ]
    }
   ],
   "source": [
    "import numpy as np\n",
    "import pandas as pd\n",
    "\n",
    "# 1) Clamp impossible states\n",
    "second_innings[\"runs_required\"] = second_innings[\"runs_required\"].clip(lower=0)\n",
    "second_innings[\"balls_left\"]     = second_innings[\"balls_left\"].clip(lower=0)\n",
    "\n",
    "# 2) Recompute RRR safely:\n",
    "#    - If balls_left == 0 → RRR = 0 (innings ended)\n",
    "#    - If runs_required == 0 → RRR = 0 (target achieved)\n",
    "second_innings[\"rrr\"] = np.where(\n",
    "    (second_innings[\"balls_left\"] > 0) & (second_innings[\"runs_required\"] > 0),\n",
    "    (second_innings[\"runs_required\"] / second_innings[\"balls_left\"]) * 6,\n",
    "    0.0\n",
    ")\n",
    "\n",
    "# 3) CRR was already guarded; but ensure no inf/NaN remain\n",
    "for col in [\"crr\", \"rrr\"]:\n",
    "    second_innings[col].replace([np.inf, -np.inf], np.nan, inplace=True)\n",
    "\n",
    "# 4) Drop any rows that still have NaN in feature columns\n",
    "feature_cols = [\"runs_required\", \"balls_left\", \"wickets_left\", \"crr\", \"rrr\"]\n",
    "clean_mask = second_innings[feature_cols].notna().all(axis=1)\n",
    "second_innings = second_innings.loc[clean_mask].copy()\n",
    "\n",
    "# 5) Rebuild X_second / y_second from the cleaned frame\n",
    "X_second = second_innings[feature_cols].copy()\n",
    "y_second = second_innings[\"won\"].astype(int).copy()\n",
    "\n",
    "print(\"Clean shapes:\", X_second.shape, y_second.shape)\n",
    "print(\"Any inf left?\", np.isinf(X_second.values).any(), \"Any NaN left?\", np.isnan(X_second.values).any())"
   ]
  },
  {
   "cell_type": "code",
   "execution_count": null,
   "id": "0e3c325b-fdf0-4154-95c4-81b05a766a20",
   "metadata": {},
   "outputs": [],
   "source": []
  }
 ],
 "metadata": {
  "kernelspec": {
   "display_name": "Python [conda env:cricket]",
   "language": "python",
   "name": "conda-env-cricket-py"
  },
  "language_info": {
   "codemirror_mode": {
    "name": "ipython",
    "version": 3
   },
   "file_extension": ".py",
   "mimetype": "text/x-python",
   "name": "python",
   "nbconvert_exporter": "python",
   "pygments_lexer": "ipython3",
   "version": "3.11.13"
  }
 },
 "nbformat": 4,
 "nbformat_minor": 5
}
