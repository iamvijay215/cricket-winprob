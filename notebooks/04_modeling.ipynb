{
 "cells": [
  {
   "cell_type": "code",
   "execution_count": 3,
   "id": "0941bbf4-e9af-4b10-8639-d8f43f896945",
   "metadata": {},
   "outputs": [],
   "source": [
    "import sys\n",
    "from pathlib import Path\n",
    "\n",
    "# add src/ folder to Python path so we can import config\n",
    "sys.path.append(str(Path.cwd().parents[0] / \"src\"))\n",
    "import config as C"
   ]
  },
  {
   "cell_type": "code",
   "execution_count": 5,
   "id": "d3c817d8-1f56-4b98-ac86-973529554f13",
   "metadata": {},
   "outputs": [],
   "source": [
    "import pandas as pd\n",
    "\n",
    "matches = pd.read_csv(C.MATCHES_CLEAN)\n",
    "deliveries = pd.read_csv(C.DELIV_CLEAN)"
   ]
  },
  {
   "cell_type": "code",
   "execution_count": null,
   "id": "b48a5ab4-5d76-4ce5-944e-5bec3fa3aa5a",
   "metadata": {},
   "outputs": [],
   "source": []
  }
 ],
 "metadata": {
  "kernelspec": {
   "display_name": "Python [conda env:cricket]",
   "language": "python",
   "name": "conda-env-cricket-py"
  },
  "language_info": {
   "codemirror_mode": {
    "name": "ipython",
    "version": 3
   },
   "file_extension": ".py",
   "mimetype": "text/x-python",
   "name": "python",
   "nbconvert_exporter": "python",
   "pygments_lexer": "ipython3",
   "version": "3.11.13"
  }
 },
 "nbformat": 4,
 "nbformat_minor": 5
}
