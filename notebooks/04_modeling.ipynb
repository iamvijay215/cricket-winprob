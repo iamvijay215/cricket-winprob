{
 "cells": [
  {
   "cell_type": "code",
   "execution_count": 3,
   "id": "0941bbf4-e9af-4b10-8639-d8f43f896945",
   "metadata": {},
   "outputs": [],
   "source": [
    "import sys\n",
    "from pathlib import Path\n",
    "\n",
    "# add src/ folder to Python path so we can import config\n",
    "sys.path.append(str(Path.cwd().parents[0] / \"src\"))\n",
    "import config as C"
   ]
  },
  {
   "cell_type": "code",
   "execution_count": 4,
   "id": "d3c817d8-1f56-4b98-ac86-973529554f13",
   "metadata": {},
   "outputs": [],
   "source": [
    "# Import basic libraries\n",
    "import pandas as pd\n",
    "import numpy as np\n",
    "from sklearn.model_selection import train_test_split\n",
    "from sklearn.metrics import mean_absolute_error, r2_score, accuracy_score, roc_auc_score\n",
    "import config as C\n",
    "\n",
    "# Load feature sets\n",
    "X_first = pd.read_csv(C.PROC / \"X_first.csv\")\n",
    "y_first = pd.read_csv(C.PROC / \"y_first.csv\").values.ravel()   # regression target\n",
    "X_second = pd.read_csv(C.PROC / \"X_second.csv\")\n",
    "y_second = pd.read_csv(C.PROC / \"y_second.csv\").values.ravel() # classification target"
   ]
  },
  {
   "cell_type": "markdown",
   "id": "cb9f47a2",
   "metadata": {},
   "source": [
    "## Step 2: Train/Test Split"
   ]
  },
  {
   "cell_type": "markdown",
   "id": "74a6d233",
   "metadata": {},
   "source": [
    "#### For Score Prediction (Regression)"
   ]
  },
  {
   "cell_type": "code",
   "execution_count": 5,
   "id": "fe464bfd",
   "metadata": {},
   "outputs": [],
   "source": [
    "Xf_train, Xf_test, yf_train, yf_test = train_test_split(X_first, y_first, test_size=0.2, random_state=42)"
   ]
  },
  {
   "cell_type": "markdown",
   "id": "fe5d08be",
   "metadata": {},
   "source": [
    "#### For Win Probability (Classification)"
   ]
  },
  {
   "cell_type": "code",
   "execution_count": 6,
   "id": "6c28381e",
   "metadata": {},
   "outputs": [],
   "source": [
    "Xs_train, Xs_test, ys_train, ys_test = train_test_split(X_second, y_second, test_size=0.2, random_state=42, stratify=y_second)"
   ]
  },
  {
   "cell_type": "markdown",
   "id": "9573b107",
   "metadata": {},
   "source": [
    "🧠 Why:\n",
    "\t•\tSplits 80 / 20 for unbiased testing.\n",
    "\t•\tstratify ensures balanced win/loss classes."
   ]
  },
  {
   "cell_type": "markdown",
   "id": "b0236a6e",
   "metadata": {},
   "source": [
    "## Step 3: Baseline Models"
   ]
  },
  {
   "cell_type": "markdown",
   "id": "a95d39ab",
   "metadata": {},
   "source": [
    "### Regression Model — Predict First-Innings Score\n",
    "\n",
    "🧠 Meaning:\n",
    "\t•\tLinear Regression predicts a continuous final score.\n",
    "\t•\tMAE = average error in runs.\n",
    "\t•\tR² = how much variance explained by model (closer to 1 = better).\n"
   ]
  },
  {
   "cell_type": "code",
   "execution_count": 7,
   "id": "77602100",
   "metadata": {},
   "outputs": [
    {
     "name": "stdout",
     "output_type": "stream",
     "text": [
      "MAE: 22.85073337297367\n",
      "R² Score: -0.17891124395421243\n"
     ]
    }
   ],
   "source": [
    "from sklearn.linear_model import LinearRegression\n",
    "\n",
    "reg = LinearRegression()\n",
    "reg.fit(Xf_train, yf_train)\n",
    "\n",
    "y_pred = reg.predict(Xf_test)\n",
    "\n",
    "print(\"MAE:\", mean_absolute_error(yf_test, y_pred))\n",
    "print(\"R² Score:\", r2_score(yf_test, y_pred))"
   ]
  },
  {
   "cell_type": "markdown",
   "id": "74d4e49b",
   "metadata": {},
   "source": [
    "### Classification Model — Win Probability\n",
    "\n",
    "🧠 Meaning:\n",
    "\t•\tLogistic Regression outputs a probability (0 – 1) for win % prediction.\n",
    "\t•\tROC-AUC ≈ 1 → model separates winners from losers well.\n",
    "\t•\tpredict_proba gives the “chance of winning”."
   ]
  },
  {
   "cell_type": "code",
   "execution_count": 16,
   "id": "796a3ddf",
   "metadata": {},
   "outputs": [
    {
     "ename": "ValueError",
     "evalue": "Input X contains infinity or a value too large for dtype('float64').",
     "output_type": "error",
     "traceback": [
      "\u001b[31m---------------------------------------------------------------------------\u001b[39m",
      "\u001b[31mValueError\u001b[39m                                Traceback (most recent call last)",
      "\u001b[36mCell\u001b[39m\u001b[36m \u001b[39m\u001b[32mIn[16]\u001b[39m\u001b[32m, line 10\u001b[39m\n\u001b[32m      5\u001b[39m Xs_train, Xs_test, ys_train, ys_test = train_test_split(\n\u001b[32m      6\u001b[39m     X_second, y_second, test_size=\u001b[32m0.2\u001b[39m, random_state=\u001b[32m42\u001b[39m, stratify=y_second\n\u001b[32m      7\u001b[39m )\n\u001b[32m      9\u001b[39m clf = LogisticRegression(max_iter=\u001b[32m500\u001b[39m)\n\u001b[32m---> \u001b[39m\u001b[32m10\u001b[39m \u001b[43mclf\u001b[49m\u001b[43m.\u001b[49m\u001b[43mfit\u001b[49m\u001b[43m(\u001b[49m\u001b[43mXs_train\u001b[49m\u001b[43m,\u001b[49m\u001b[43m \u001b[49m\u001b[43mys_train\u001b[49m\u001b[43m)\u001b[49m\n\u001b[32m     12\u001b[39m y_pred_cls = clf.predict(Xs_test)\n\u001b[32m     13\u001b[39m y_pred_proba = clf.predict_proba(Xs_test)[:, \u001b[32m1\u001b[39m]\n",
      "\u001b[36mFile \u001b[39m\u001b[32m~/anaconda3/envs/cricket/lib/python3.11/site-packages/sklearn/base.py:1365\u001b[39m, in \u001b[36m_fit_context.<locals>.decorator.<locals>.wrapper\u001b[39m\u001b[34m(estimator, *args, **kwargs)\u001b[39m\n\u001b[32m   1358\u001b[39m     estimator._validate_params()\n\u001b[32m   1360\u001b[39m \u001b[38;5;28;01mwith\u001b[39;00m config_context(\n\u001b[32m   1361\u001b[39m     skip_parameter_validation=(\n\u001b[32m   1362\u001b[39m         prefer_skip_nested_validation \u001b[38;5;129;01mor\u001b[39;00m global_skip_validation\n\u001b[32m   1363\u001b[39m     )\n\u001b[32m   1364\u001b[39m ):\n\u001b[32m-> \u001b[39m\u001b[32m1365\u001b[39m     \u001b[38;5;28;01mreturn\u001b[39;00m \u001b[43mfit_method\u001b[49m\u001b[43m(\u001b[49m\u001b[43mestimator\u001b[49m\u001b[43m,\u001b[49m\u001b[43m \u001b[49m\u001b[43m*\u001b[49m\u001b[43margs\u001b[49m\u001b[43m,\u001b[49m\u001b[43m \u001b[49m\u001b[43m*\u001b[49m\u001b[43m*\u001b[49m\u001b[43mkwargs\u001b[49m\u001b[43m)\u001b[49m\n",
      "\u001b[36mFile \u001b[39m\u001b[32m~/anaconda3/envs/cricket/lib/python3.11/site-packages/sklearn/linear_model/_logistic.py:1247\u001b[39m, in \u001b[36mLogisticRegression.fit\u001b[39m\u001b[34m(self, X, y, sample_weight)\u001b[39m\n\u001b[32m   1244\u001b[39m \u001b[38;5;28;01melse\u001b[39;00m:\n\u001b[32m   1245\u001b[39m     _dtype = [np.float64, np.float32]\n\u001b[32m-> \u001b[39m\u001b[32m1247\u001b[39m X, y = \u001b[43mvalidate_data\u001b[49m\u001b[43m(\u001b[49m\n\u001b[32m   1248\u001b[39m \u001b[43m    \u001b[49m\u001b[38;5;28;43mself\u001b[39;49m\u001b[43m,\u001b[49m\n\u001b[32m   1249\u001b[39m \u001b[43m    \u001b[49m\u001b[43mX\u001b[49m\u001b[43m,\u001b[49m\n\u001b[32m   1250\u001b[39m \u001b[43m    \u001b[49m\u001b[43my\u001b[49m\u001b[43m,\u001b[49m\n\u001b[32m   1251\u001b[39m \u001b[43m    \u001b[49m\u001b[43maccept_sparse\u001b[49m\u001b[43m=\u001b[49m\u001b[33;43m\"\u001b[39;49m\u001b[33;43mcsr\u001b[39;49m\u001b[33;43m\"\u001b[39;49m\u001b[43m,\u001b[49m\n\u001b[32m   1252\u001b[39m \u001b[43m    \u001b[49m\u001b[43mdtype\u001b[49m\u001b[43m=\u001b[49m\u001b[43m_dtype\u001b[49m\u001b[43m,\u001b[49m\n\u001b[32m   1253\u001b[39m \u001b[43m    \u001b[49m\u001b[43morder\u001b[49m\u001b[43m=\u001b[49m\u001b[33;43m\"\u001b[39;49m\u001b[33;43mC\u001b[39;49m\u001b[33;43m\"\u001b[39;49m\u001b[43m,\u001b[49m\n\u001b[32m   1254\u001b[39m \u001b[43m    \u001b[49m\u001b[43maccept_large_sparse\u001b[49m\u001b[43m=\u001b[49m\u001b[43msolver\u001b[49m\u001b[43m \u001b[49m\u001b[38;5;129;43;01mnot\u001b[39;49;00m\u001b[43m \u001b[49m\u001b[38;5;129;43;01min\u001b[39;49;00m\u001b[43m \u001b[49m\u001b[43m[\u001b[49m\u001b[33;43m\"\u001b[39;49m\u001b[33;43mliblinear\u001b[39;49m\u001b[33;43m\"\u001b[39;49m\u001b[43m,\u001b[49m\u001b[43m \u001b[49m\u001b[33;43m\"\u001b[39;49m\u001b[33;43msag\u001b[39;49m\u001b[33;43m\"\u001b[39;49m\u001b[43m,\u001b[49m\u001b[43m \u001b[49m\u001b[33;43m\"\u001b[39;49m\u001b[33;43msaga\u001b[39;49m\u001b[33;43m\"\u001b[39;49m\u001b[43m]\u001b[49m\u001b[43m,\u001b[49m\n\u001b[32m   1255\u001b[39m \u001b[43m\u001b[49m\u001b[43m)\u001b[49m\n\u001b[32m   1256\u001b[39m check_classification_targets(y)\n\u001b[32m   1257\u001b[39m \u001b[38;5;28mself\u001b[39m.classes_ = np.unique(y)\n",
      "\u001b[36mFile \u001b[39m\u001b[32m~/anaconda3/envs/cricket/lib/python3.11/site-packages/sklearn/utils/validation.py:2971\u001b[39m, in \u001b[36mvalidate_data\u001b[39m\u001b[34m(_estimator, X, y, reset, validate_separately, skip_check_array, **check_params)\u001b[39m\n\u001b[32m   2969\u001b[39m         y = check_array(y, input_name=\u001b[33m\"\u001b[39m\u001b[33my\u001b[39m\u001b[33m\"\u001b[39m, **check_y_params)\n\u001b[32m   2970\u001b[39m     \u001b[38;5;28;01melse\u001b[39;00m:\n\u001b[32m-> \u001b[39m\u001b[32m2971\u001b[39m         X, y = \u001b[43mcheck_X_y\u001b[49m\u001b[43m(\u001b[49m\u001b[43mX\u001b[49m\u001b[43m,\u001b[49m\u001b[43m \u001b[49m\u001b[43my\u001b[49m\u001b[43m,\u001b[49m\u001b[43m \u001b[49m\u001b[43m*\u001b[49m\u001b[43m*\u001b[49m\u001b[43mcheck_params\u001b[49m\u001b[43m)\u001b[49m\n\u001b[32m   2972\u001b[39m     out = X, y\n\u001b[32m   2974\u001b[39m \u001b[38;5;28;01mif\u001b[39;00m \u001b[38;5;129;01mnot\u001b[39;00m no_val_X \u001b[38;5;129;01mand\u001b[39;00m check_params.get(\u001b[33m\"\u001b[39m\u001b[33mensure_2d\u001b[39m\u001b[33m\"\u001b[39m, \u001b[38;5;28;01mTrue\u001b[39;00m):\n",
      "\u001b[36mFile \u001b[39m\u001b[32m~/anaconda3/envs/cricket/lib/python3.11/site-packages/sklearn/utils/validation.py:1368\u001b[39m, in \u001b[36mcheck_X_y\u001b[39m\u001b[34m(X, y, accept_sparse, accept_large_sparse, dtype, order, copy, force_writeable, force_all_finite, ensure_all_finite, ensure_2d, allow_nd, multi_output, ensure_min_samples, ensure_min_features, y_numeric, estimator)\u001b[39m\n\u001b[32m   1362\u001b[39m     \u001b[38;5;28;01mraise\u001b[39;00m \u001b[38;5;167;01mValueError\u001b[39;00m(\n\u001b[32m   1363\u001b[39m         \u001b[33mf\u001b[39m\u001b[33m\"\u001b[39m\u001b[38;5;132;01m{\u001b[39;00mestimator_name\u001b[38;5;132;01m}\u001b[39;00m\u001b[33m requires y to be passed, but the target y is None\u001b[39m\u001b[33m\"\u001b[39m\n\u001b[32m   1364\u001b[39m     )\n\u001b[32m   1366\u001b[39m ensure_all_finite = _deprecate_force_all_finite(force_all_finite, ensure_all_finite)\n\u001b[32m-> \u001b[39m\u001b[32m1368\u001b[39m X = \u001b[43mcheck_array\u001b[49m\u001b[43m(\u001b[49m\n\u001b[32m   1369\u001b[39m \u001b[43m    \u001b[49m\u001b[43mX\u001b[49m\u001b[43m,\u001b[49m\n\u001b[32m   1370\u001b[39m \u001b[43m    \u001b[49m\u001b[43maccept_sparse\u001b[49m\u001b[43m=\u001b[49m\u001b[43maccept_sparse\u001b[49m\u001b[43m,\u001b[49m\n\u001b[32m   1371\u001b[39m \u001b[43m    \u001b[49m\u001b[43maccept_large_sparse\u001b[49m\u001b[43m=\u001b[49m\u001b[43maccept_large_sparse\u001b[49m\u001b[43m,\u001b[49m\n\u001b[32m   1372\u001b[39m \u001b[43m    \u001b[49m\u001b[43mdtype\u001b[49m\u001b[43m=\u001b[49m\u001b[43mdtype\u001b[49m\u001b[43m,\u001b[49m\n\u001b[32m   1373\u001b[39m \u001b[43m    \u001b[49m\u001b[43morder\u001b[49m\u001b[43m=\u001b[49m\u001b[43morder\u001b[49m\u001b[43m,\u001b[49m\n\u001b[32m   1374\u001b[39m \u001b[43m    \u001b[49m\u001b[43mcopy\u001b[49m\u001b[43m=\u001b[49m\u001b[43mcopy\u001b[49m\u001b[43m,\u001b[49m\n\u001b[32m   1375\u001b[39m \u001b[43m    \u001b[49m\u001b[43mforce_writeable\u001b[49m\u001b[43m=\u001b[49m\u001b[43mforce_writeable\u001b[49m\u001b[43m,\u001b[49m\n\u001b[32m   1376\u001b[39m \u001b[43m    \u001b[49m\u001b[43mensure_all_finite\u001b[49m\u001b[43m=\u001b[49m\u001b[43mensure_all_finite\u001b[49m\u001b[43m,\u001b[49m\n\u001b[32m   1377\u001b[39m \u001b[43m    \u001b[49m\u001b[43mensure_2d\u001b[49m\u001b[43m=\u001b[49m\u001b[43mensure_2d\u001b[49m\u001b[43m,\u001b[49m\n\u001b[32m   1378\u001b[39m \u001b[43m    \u001b[49m\u001b[43mallow_nd\u001b[49m\u001b[43m=\u001b[49m\u001b[43mallow_nd\u001b[49m\u001b[43m,\u001b[49m\n\u001b[32m   1379\u001b[39m \u001b[43m    \u001b[49m\u001b[43mensure_min_samples\u001b[49m\u001b[43m=\u001b[49m\u001b[43mensure_min_samples\u001b[49m\u001b[43m,\u001b[49m\n\u001b[32m   1380\u001b[39m \u001b[43m    \u001b[49m\u001b[43mensure_min_features\u001b[49m\u001b[43m=\u001b[49m\u001b[43mensure_min_features\u001b[49m\u001b[43m,\u001b[49m\n\u001b[32m   1381\u001b[39m \u001b[43m    \u001b[49m\u001b[43mestimator\u001b[49m\u001b[43m=\u001b[49m\u001b[43mestimator\u001b[49m\u001b[43m,\u001b[49m\n\u001b[32m   1382\u001b[39m \u001b[43m    \u001b[49m\u001b[43minput_name\u001b[49m\u001b[43m=\u001b[49m\u001b[33;43m\"\u001b[39;49m\u001b[33;43mX\u001b[39;49m\u001b[33;43m\"\u001b[39;49m\u001b[43m,\u001b[49m\n\u001b[32m   1383\u001b[39m \u001b[43m\u001b[49m\u001b[43m)\u001b[49m\n\u001b[32m   1385\u001b[39m y = _check_y(y, multi_output=multi_output, y_numeric=y_numeric, estimator=estimator)\n\u001b[32m   1387\u001b[39m check_consistent_length(X, y)\n",
      "\u001b[36mFile \u001b[39m\u001b[32m~/anaconda3/envs/cricket/lib/python3.11/site-packages/sklearn/utils/validation.py:1105\u001b[39m, in \u001b[36mcheck_array\u001b[39m\u001b[34m(array, accept_sparse, accept_large_sparse, dtype, order, copy, force_writeable, force_all_finite, ensure_all_finite, ensure_non_negative, ensure_2d, allow_nd, ensure_min_samples, ensure_min_features, estimator, input_name)\u001b[39m\n\u001b[32m   1099\u001b[39m     \u001b[38;5;28;01mraise\u001b[39;00m \u001b[38;5;167;01mValueError\u001b[39;00m(\n\u001b[32m   1100\u001b[39m         \u001b[33mf\u001b[39m\u001b[33m\"\u001b[39m\u001b[33mFound array with dim \u001b[39m\u001b[38;5;132;01m{\u001b[39;00marray.ndim\u001b[38;5;132;01m}\u001b[39;00m\u001b[33m,\u001b[39m\u001b[33m\"\u001b[39m\n\u001b[32m   1101\u001b[39m         \u001b[33mf\u001b[39m\u001b[33m\"\u001b[39m\u001b[33m while dim <= 2 is required\u001b[39m\u001b[38;5;132;01m{\u001b[39;00mcontext\u001b[38;5;132;01m}\u001b[39;00m\u001b[33m.\u001b[39m\u001b[33m\"\u001b[39m\n\u001b[32m   1102\u001b[39m     )\n\u001b[32m   1104\u001b[39m \u001b[38;5;28;01mif\u001b[39;00m ensure_all_finite:\n\u001b[32m-> \u001b[39m\u001b[32m1105\u001b[39m     \u001b[43m_assert_all_finite\u001b[49m\u001b[43m(\u001b[49m\n\u001b[32m   1106\u001b[39m \u001b[43m        \u001b[49m\u001b[43marray\u001b[49m\u001b[43m,\u001b[49m\n\u001b[32m   1107\u001b[39m \u001b[43m        \u001b[49m\u001b[43minput_name\u001b[49m\u001b[43m=\u001b[49m\u001b[43minput_name\u001b[49m\u001b[43m,\u001b[49m\n\u001b[32m   1108\u001b[39m \u001b[43m        \u001b[49m\u001b[43mestimator_name\u001b[49m\u001b[43m=\u001b[49m\u001b[43mestimator_name\u001b[49m\u001b[43m,\u001b[49m\n\u001b[32m   1109\u001b[39m \u001b[43m        \u001b[49m\u001b[43mallow_nan\u001b[49m\u001b[43m=\u001b[49m\u001b[43mensure_all_finite\u001b[49m\u001b[43m \u001b[49m\u001b[43m==\u001b[49m\u001b[43m \u001b[49m\u001b[33;43m\"\u001b[39;49m\u001b[33;43mallow-nan\u001b[39;49m\u001b[33;43m\"\u001b[39;49m\u001b[43m,\u001b[49m\n\u001b[32m   1110\u001b[39m \u001b[43m    \u001b[49m\u001b[43m)\u001b[49m\n\u001b[32m   1112\u001b[39m \u001b[38;5;28;01mif\u001b[39;00m copy:\n\u001b[32m   1113\u001b[39m     \u001b[38;5;28;01mif\u001b[39;00m _is_numpy_namespace(xp):\n\u001b[32m   1114\u001b[39m         \u001b[38;5;66;03m# only make a copy if `array` and `array_orig` may share memory`\u001b[39;00m\n",
      "\u001b[36mFile \u001b[39m\u001b[32m~/anaconda3/envs/cricket/lib/python3.11/site-packages/sklearn/utils/validation.py:120\u001b[39m, in \u001b[36m_assert_all_finite\u001b[39m\u001b[34m(X, allow_nan, msg_dtype, estimator_name, input_name)\u001b[39m\n\u001b[32m    117\u001b[39m \u001b[38;5;28;01mif\u001b[39;00m first_pass_isfinite:\n\u001b[32m    118\u001b[39m     \u001b[38;5;28;01mreturn\u001b[39;00m\n\u001b[32m--> \u001b[39m\u001b[32m120\u001b[39m \u001b[43m_assert_all_finite_element_wise\u001b[49m\u001b[43m(\u001b[49m\n\u001b[32m    121\u001b[39m \u001b[43m    \u001b[49m\u001b[43mX\u001b[49m\u001b[43m,\u001b[49m\n\u001b[32m    122\u001b[39m \u001b[43m    \u001b[49m\u001b[43mxp\u001b[49m\u001b[43m=\u001b[49m\u001b[43mxp\u001b[49m\u001b[43m,\u001b[49m\n\u001b[32m    123\u001b[39m \u001b[43m    \u001b[49m\u001b[43mallow_nan\u001b[49m\u001b[43m=\u001b[49m\u001b[43mallow_nan\u001b[49m\u001b[43m,\u001b[49m\n\u001b[32m    124\u001b[39m \u001b[43m    \u001b[49m\u001b[43mmsg_dtype\u001b[49m\u001b[43m=\u001b[49m\u001b[43mmsg_dtype\u001b[49m\u001b[43m,\u001b[49m\n\u001b[32m    125\u001b[39m \u001b[43m    \u001b[49m\u001b[43mestimator_name\u001b[49m\u001b[43m=\u001b[49m\u001b[43mestimator_name\u001b[49m\u001b[43m,\u001b[49m\n\u001b[32m    126\u001b[39m \u001b[43m    \u001b[49m\u001b[43minput_name\u001b[49m\u001b[43m=\u001b[49m\u001b[43minput_name\u001b[49m\u001b[43m,\u001b[49m\n\u001b[32m    127\u001b[39m \u001b[43m\u001b[49m\u001b[43m)\u001b[49m\n",
      "\u001b[36mFile \u001b[39m\u001b[32m~/anaconda3/envs/cricket/lib/python3.11/site-packages/sklearn/utils/validation.py:169\u001b[39m, in \u001b[36m_assert_all_finite_element_wise\u001b[39m\u001b[34m(X, xp, allow_nan, msg_dtype, estimator_name, input_name)\u001b[39m\n\u001b[32m    152\u001b[39m \u001b[38;5;28;01mif\u001b[39;00m estimator_name \u001b[38;5;129;01mand\u001b[39;00m input_name == \u001b[33m\"\u001b[39m\u001b[33mX\u001b[39m\u001b[33m\"\u001b[39m \u001b[38;5;129;01mand\u001b[39;00m has_nan_error:\n\u001b[32m    153\u001b[39m     \u001b[38;5;66;03m# Improve the error message on how to handle missing values in\u001b[39;00m\n\u001b[32m    154\u001b[39m     \u001b[38;5;66;03m# scikit-learn.\u001b[39;00m\n\u001b[32m    155\u001b[39m     msg_err += (\n\u001b[32m    156\u001b[39m         \u001b[33mf\u001b[39m\u001b[33m\"\u001b[39m\u001b[38;5;130;01m\\n\u001b[39;00m\u001b[38;5;132;01m{\u001b[39;00mestimator_name\u001b[38;5;132;01m}\u001b[39;00m\u001b[33m does not accept missing values\u001b[39m\u001b[33m\"\u001b[39m\n\u001b[32m    157\u001b[39m         \u001b[33m\"\u001b[39m\u001b[33m encoded as NaN natively. For supervised learning, you might want\u001b[39m\u001b[33m\"\u001b[39m\n\u001b[32m   (...)\u001b[39m\u001b[32m    167\u001b[39m         \u001b[33m\"\u001b[39m\u001b[33m#estimators-that-handle-nan-values\u001b[39m\u001b[33m\"\u001b[39m\n\u001b[32m    168\u001b[39m     )\n\u001b[32m--> \u001b[39m\u001b[32m169\u001b[39m \u001b[38;5;28;01mraise\u001b[39;00m \u001b[38;5;167;01mValueError\u001b[39;00m(msg_err)\n",
      "\u001b[31mValueError\u001b[39m: Input X contains infinity or a value too large for dtype('float64')."
     ]
    }
   ],
   "source": [
    "from sklearn.model_selection import train_test_split\n",
    "from sklearn.linear_model import LogisticRegression\n",
    "from sklearn.metrics import accuracy_score, roc_auc_score\n",
    "\n",
    "Xs_train, Xs_test, ys_train, ys_test = train_test_split(\n",
    "    X_second, y_second, test_size=0.2, random_state=42, stratify=y_second\n",
    ")\n",
    "\n",
    "clf = LogisticRegression(max_iter=500)\n",
    "clf.fit(Xs_train, ys_train)\n",
    "\n",
    "y_pred_cls = clf.predict(Xs_test)\n",
    "y_pred_proba = clf.predict_proba(Xs_test)[:, 1]\n",
    "\n",
    "print(\"Accuracy:\", accuracy_score(ys_test, y_pred_cls))\n",
    "print(\"ROC-AUC:\", roc_auc_score(ys_test, y_pred_proba))"
   ]
  },
  {
   "cell_type": "code",
   "execution_count": 18,
   "id": "e8c7f87c",
   "metadata": {},
   "outputs": [
    {
     "name": "stdout",
     "output_type": "stream",
     "text": [
      "After cleaning: (72043, 5) Any inf? False Any NaN? False\n"
     ]
    }
   ],
   "source": [
    "import numpy as np\n",
    "import pandas as pd\n",
    "import config as C\n",
    "\n",
    "# Load saved FE datasets\n",
    "X_second = pd.read_csv(C.PROC / \"X_second.csv\")\n",
    "y_second = pd.read_csv(C.PROC / \"y_second.csv\").squeeze()\n",
    "\n",
    "# Ensure correct dtypes (coerce any weird strings)\n",
    "for c in X_second.columns:\n",
    "    X_second[c] = pd.to_numeric(X_second[c], errors=\"coerce\")\n",
    "\n",
    "# Replace +/-inf with NaN\n",
    "X_second.replace([np.inf, -np.inf], np.nan, inplace=True)\n",
    "\n",
    "# Clip physically reasonable bounds (prevents extreme values)\n",
    "# - runs_required: can't be negative\n",
    "# - balls_left:    0..120\n",
    "# - wickets_left:  0..10\n",
    "# - crr, rrr:      keep in a sane range for T20 (0..36 runs/over)\n",
    "bounds = {\n",
    "    \"runs_required\": (0, None),\n",
    "    \"balls_left\": (0, 120),\n",
    "    \"wickets_left\": (0, 10),\n",
    "    \"crr\": (0, 36),\n",
    "    \"rrr\": (0, 36),\n",
    "}\n",
    "for col, (lo, hi) in bounds.items():\n",
    "    if col in X_second.columns:\n",
    "        if lo is not None: X_second[col] = X_second[col].clip(lower=lo)\n",
    "        if hi is not None: X_second[col] = X_second[col].clip(upper=hi)\n",
    "\n",
    "# Drop any remaining NaNs after coercion/clipping\n",
    "mask_ok = X_second.notna().all(axis=1)\n",
    "X_second = X_second.loc[mask_ok].reset_index(drop=True)\n",
    "y_second = y_second.loc[mask_ok].reset_index(drop=True)\n",
    "\n",
    "print(\"After cleaning:\", X_second.shape, \"Any inf?\", np.isinf(X_second.values).any(), \n",
    "      \"Any NaN?\", np.isnan(X_second.values).any())"
   ]
  },
  {
   "cell_type": "code",
   "execution_count": 20,
   "id": "e7d23203-b128-4cfe-850d-ccbfaa0c4acd",
   "metadata": {},
   "outputs": [],
   "source": [
    "assert np.isfinite(X_second.values).all(), \"X_second still has non-finite values\"\n",
    "assert y_second.isin([0,1]).all(), \"y_second must be 0/1 only\""
   ]
  },
  {
   "cell_type": "code",
   "execution_count": 22,
   "id": "f3b1e4af-73f4-463b-b696-05a67247baeb",
   "metadata": {},
   "outputs": [
    {
     "name": "stdout",
     "output_type": "stream",
     "text": [
      "Accuracy: 0.7865223124436116\n",
      "ROC-AUC: 0.8756229298586751\n"
     ]
    }
   ],
   "source": [
    "from sklearn.model_selection import train_test_split\n",
    "from sklearn.linear_model import LogisticRegression\n",
    "from sklearn.metrics import accuracy_score, roc_auc_score\n",
    "\n",
    "Xs_train, Xs_test, ys_train, ys_test = train_test_split(\n",
    "    X_second, y_second, test_size=0.2, random_state=42, stratify=y_second\n",
    ")\n",
    "\n",
    "# A solver that often behaves well on small/medium numeric sets\n",
    "clf = LogisticRegression(max_iter=1000, solver=\"lbfgs\")\n",
    "clf.fit(Xs_train, ys_train)\n",
    "\n",
    "y_pred_cls = clf.predict(Xs_test)\n",
    "y_pred_proba = clf.predict_proba(Xs_test)[:, 1]\n",
    "\n",
    "print(\"Accuracy:\", accuracy_score(ys_test, y_pred_cls))\n",
    "print(\"ROC-AUC:\", roc_auc_score(ys_test, y_pred_proba))"
   ]
  },
  {
   "cell_type": "code",
   "execution_count": 24,
   "id": "553d9302-c818-40fb-8651-b354e09ef9c4",
   "metadata": {},
   "outputs": [
    {
     "name": "stdout",
     "output_type": "stream",
     "text": [
      "Non-finite by column:\n",
      "               has_nan  has_inf\n",
      "runs_required    False    False\n",
      "balls_left       False    False\n",
      "wickets_left     False    False\n",
      "crr              False    False\n",
      "rrr              False    False\n"
     ]
    }
   ],
   "source": [
    "print(\"Non-finite by column:\")\n",
    "print(pd.DataFrame({\n",
    "    \"has_nan\": X_second.isna().any(),\n",
    "    \"has_inf\": X_second.apply(lambda s: np.isinf(s).any())\n",
    "}))\n",
    "\n",
    "# Find and show a few bad rows if any reappear\n",
    "bad = ~np.isfinite(X_second.values).all(axis=1) if hasattr(np, \"isfinite\") else None\n",
    "if bad is not None and bad.any():\n",
    "    display(X_second[bad].head(10))"
   ]
  },
  {
   "cell_type": "code",
   "execution_count": 26,
   "id": "538ff693-ac1f-4584-9248-c8b58dff99a6",
   "metadata": {},
   "outputs": [
    {
     "name": "stdout",
     "output_type": "stream",
     "text": [
      "Accuracy: 0.7865223124436116\n",
      "ROC-AUC: 0.8756226398518352\n"
     ]
    }
   ],
   "source": [
    "# add to your X_second before split (or make a copy and re-split)\n",
    "X_second_ext = X_second.copy()\n",
    "X_second_ext[\"crr_minus_rrr\"] = X_second_ext[\"crr\"] - X_second_ext[\"rrr\"]\n",
    "\n",
    "Xs_train, Xs_test, ys_train, ys_test = train_test_split(\n",
    "    X_second_ext, y_second, test_size=0.2, random_state=42, stratify=y_second\n",
    ")\n",
    "\n",
    "clf = LogisticRegression(max_iter=1000, solver=\"lbfgs\")\n",
    "clf.fit(Xs_train, ys_train)\n",
    "y_proba = clf.predict_proba(Xs_test)[:, 1]\n",
    "y_pred  = (y_proba >= 0.5).astype(int)\n",
    "\n",
    "print(\"Accuracy:\", accuracy_score(ys_test, y_pred))\n",
    "print(\"ROC-AUC:\", roc_auc_score(ys_test, y_proba))"
   ]
  },
  {
   "cell_type": "code",
   "execution_count": 28,
   "id": "c73dda45-6d7d-4409-9f7a-170394a0731b",
   "metadata": {},
   "outputs": [
    {
     "data": {
      "text/html": [
       "<div>\n",
       "<style scoped>\n",
       "    .dataframe tbody tr th:only-of-type {\n",
       "        vertical-align: middle;\n",
       "    }\n",
       "\n",
       "    .dataframe tbody tr th {\n",
       "        vertical-align: top;\n",
       "    }\n",
       "\n",
       "    .dataframe thead th {\n",
       "        text-align: right;\n",
       "    }\n",
       "</style>\n",
       "<table border=\"1\" class=\"dataframe\">\n",
       "  <thead>\n",
       "    <tr style=\"text-align: right;\">\n",
       "      <th></th>\n",
       "      <th>coef</th>\n",
       "    </tr>\n",
       "  </thead>\n",
       "  <tbody>\n",
       "    <tr>\n",
       "      <th>rrr</th>\n",
       "      <td>-0.189868</td>\n",
       "    </tr>\n",
       "    <tr>\n",
       "      <th>crr</th>\n",
       "      <td>-0.062778</td>\n",
       "    </tr>\n",
       "    <tr>\n",
       "      <th>runs_required</th>\n",
       "      <td>-0.027341</td>\n",
       "    </tr>\n",
       "    <tr>\n",
       "      <th>balls_left</th>\n",
       "      <td>0.004947</td>\n",
       "    </tr>\n",
       "    <tr>\n",
       "      <th>crr_minus_rrr</th>\n",
       "      <td>0.127090</td>\n",
       "    </tr>\n",
       "    <tr>\n",
       "      <th>wickets_left</th>\n",
       "      <td>0.542619</td>\n",
       "    </tr>\n",
       "  </tbody>\n",
       "</table>\n",
       "</div>"
      ],
      "text/plain": [
       "                   coef\n",
       "rrr           -0.189868\n",
       "crr           -0.062778\n",
       "runs_required -0.027341\n",
       "balls_left     0.004947\n",
       "crr_minus_rrr  0.127090\n",
       "wickets_left   0.542619"
      ]
     },
     "metadata": {},
     "output_type": "display_data"
    }
   ],
   "source": [
    "coef = pd.Series(clf.coef_[0], index=Xs_train.columns).sort_values()\n",
    "display(coef.to_frame(\"coef\"))"
   ]
  },
  {
   "cell_type": "code",
   "execution_count": 32,
   "id": "1bd8d3a3-6b09-44d1-b621-832ce79d367e",
   "metadata": {},
   "outputs": [
    {
     "name": "stdout",
     "output_type": "stream",
     "text": [
      "Brier score (lower better): 0.14341009390550957\n",
      "ROC-AUC (calibrated): 0.8756635211493675\n"
     ]
    }
   ],
   "source": [
    "from sklearn.calibration import CalibratedClassifierCV\n",
    "from sklearn.model_selection import StratifiedKFold\n",
    "from sklearn.metrics import brier_score_loss\n",
    "\n",
    "base = LogisticRegression(max_iter=1000, solver=\"lbfgs\")\n",
    "\n",
    "cv = StratifiedKFold(n_splits=3, shuffle=True, random_state=42)\n",
    "cal = CalibratedClassifierCV(estimator=base, method=\"isotonic\", cv=cv)  # <-- changed here\n",
    "cal.fit(Xs_train, ys_train)\n",
    "\n",
    "proba_cal = cal.predict_proba(Xs_test)[:, 1]\n",
    "\n",
    "print(\"Brier score (lower better):\", brier_score_loss(ys_test, proba_cal))\n",
    "print(\"ROC-AUC (calibrated):\", roc_auc_score(ys_test, proba_cal))"
   ]
  },
  {
   "cell_type": "code",
   "execution_count": 34,
   "id": "d6e3fd2c-f41d-4b02-917e-edb52311e904",
   "metadata": {},
   "outputs": [
    {
     "name": "stdout",
     "output_type": "stream",
     "text": [
      "Saved: /Users/vijay/Documents/G2i/ML Project/cricket-winprob/data/processed/winprob_logreg_calibrated_20251013_1819.pkl\n"
     ]
    }
   ],
   "source": [
    "import joblib, datetime, os\n",
    "timestamp = datetime.datetime.now().strftime(\"%Y%m%d_%H%M\")\n",
    "fname = f\"winprob_logreg_calibrated_{timestamp}.pkl\"\n",
    "path = C.PROC / fname\n",
    "joblib.dump(cal, path)\n",
    "print(\"Saved:\", path)"
   ]
  },
  {
   "cell_type": "code",
   "execution_count": 46,
   "id": "8c05fffa-cc90-4e1e-81e9-a08255eedfa9",
   "metadata": {},
   "outputs": [
    {
     "data": {
      "image/png": "[encoded data removed]",
      "text/plain": [
       "<Figure size 640x480 with 1 Axes>"
      ]
     },
     "metadata": {},
     "output_type": "display_data"
    }
   ],
   "source": [
    "import pandas as pd\n",
    "import seaborn as sns\n",
    "import matplotlib.pyplot as plt\n",
    "\n",
    "# Each fold in CalibratedClassifierCV has its own fitted estimator\n",
    "# We'll take the first one (they’re usually very similar)\n",
    "inner_model = cal.calibrated_classifiers_[0].estimator\n",
    "\n",
    "# Extract coefficients\n",
    "coef = pd.Series(inner_model.coef_[0], index=Xs_train.columns).sort_values()\n",
    "\n",
    "# Plot feature influence\n",
    "sns.barplot(x=coef.values, y=coef.index)\n",
    "plt.title(\"Feature Influence on Win Probability\")\n",
    "plt.xlabel(\"Coefficient\")\n",
    "plt.ylabel(\"Feature\")\n",
    "plt.show()"
   ]
  },
  {
   "cell_type": "code",
   "execution_count": 50,
   "id": "9705e993-0026-4f48-aa2c-5ab73d38a42b",
   "metadata": {},
   "outputs": [
    {
     "name": "stdout",
     "output_type": "stream",
     "text": [
      "MAE (runs): 21.272800410093367\n",
      "R²: -0.0325163699758344\n"
     ]
    },
    {
     "data": {
      "text/plain": [
       "['/Users/vijay/Documents/G2i/ML Project/cricket-winprob/data/processed/score_rf.pkl']"
      ]
     },
     "execution_count": 50,
     "metadata": {},
     "output_type": "execute_result"
    }
   ],
   "source": [
    "# --- First-innings regression baseline ---\n",
    "import pandas as pd\n",
    "from sklearn.model_selection import train_test_split\n",
    "from sklearn.ensemble import RandomForestRegressor\n",
    "from sklearn.metrics import mean_absolute_error, r2_score\n",
    "import joblib, config as C\n",
    "\n",
    "X_first = pd.read_csv(C.PROC / \"X_first.csv\")\n",
    "y_first = pd.read_csv(C.PROC / \"y_first.csv\").squeeze()\n",
    "\n",
    "Xf_tr, Xf_te, yf_tr, yf_te = train_test_split(X_first, y_first, test_size=0.2, random_state=42)\n",
    "reg = RandomForestRegressor(n_estimators=500, min_samples_leaf=2, random_state=42, n_jobs=-1)\n",
    "reg.fit(Xf_tr, yf_tr)\n",
    "yhat = reg.predict(Xf_te)\n",
    "\n",
    "print(\"MAE (runs):\", mean_absolute_error(yf_te, yhat))\n",
    "print(\"R²:\", r2_score(yf_te, yhat))\n",
    "\n",
    "joblib.dump(reg, C.PROC / \"score_rf.pkl\")"
   ]
  },
  {
   "cell_type": "code",
   "execution_count": 52,
   "id": "8d950cf0-d90c-4fda-aab3-6fb97a0e2e0b",
   "metadata": {},
   "outputs": [],
   "source": [
    "# add once in FE or here before split\n",
    "def phase_from_balls_left(b):\n",
    "    if b >= 84:  return \"PP\"     # overs 1-6\n",
    "    if b >= 30:  return \"MID\"    # overs 7-15\n",
    "    return \"DEATH\"               # overs 16-20\n",
    "\n",
    "X_second_ext = X_second.copy()\n",
    "X_second_ext[\"phase\"] = Xs_train.assign(phase= Xs_train[\"balls_left\"].apply(phase_from_balls_left))[\"phase\"]\n",
    "# one-hot encode phase if you want to keep LogisticRegression simple\n",
    "X_second_ext = pd.get_dummies(X_second_ext, columns=[\"phase\"], drop_first=True)"
   ]
  },
  {
   "cell_type": "code",
   "execution_count": 54,
   "id": "a0a86b28-705b-4ca6-952b-8a053d17f6fb",
   "metadata": {},
   "outputs": [],
   "source": [
    "import json, config as C\n",
    "with open(C.PROC / \"winprob_features.json\", \"w\") as f:\n",
    "    json.dump(list(Xs_train.columns), f)\n",
    "with open(C.PROC / \"score_features.json\", \"w\") as f:\n",
    "    json.dump(list(Xf_tr.columns), f)"
   ]
  },
  {
   "cell_type": "code",
   "execution_count": 56,
   "id": "f7a748fc-515e-40cb-a9ce-43d759f61636",
   "metadata": {},
   "outputs": [],
   "source": [
    "# Win prob inference\n",
    "def predict_win_prob(cal_model, feature_order, row_dict):\n",
    "    import numpy as np\n",
    "    x = np.array([row_dict[c] for c in feature_order], dtype=float).reshape(1,-1)\n",
    "    return float(cal_model.predict_proba(x)[:,1])\n",
    "\n",
    "# Score inference (first innings, match-level categorical already encoded)\n",
    "def predict_score(reg_model, feature_order, row_dict):\n",
    "    import numpy as np\n",
    "    x = np.array([row_dict[c] for c in feature_order], dtype=float).reshape(1,-1)\n",
    "    return float(reg_model.predict(x)[0])"
   ]
  },
  {
   "cell_type": "code",
   "execution_count": 66,
   "id": "bd923bf2-992b-4e03-ac07-75037d46aca8",
   "metadata": {},
   "outputs": [
    {
     "ename": "FileNotFoundError",
     "evalue": "[Errno 2] No such file or directory: 'models/winprob_features.json'",
     "output_type": "error",
     "traceback": [
      "\u001b[31m---------------------------------------------------------------------------\u001b[39m",
      "\u001b[31mFileNotFoundError\u001b[39m                         Traceback (most recent call last)",
      "\u001b[36mCell\u001b[39m\u001b[36m \u001b[39m\u001b[32mIn[66]\u001b[39m\u001b[32m, line 6\u001b[39m\n\u001b[32m      4\u001b[39m \u001b[38;5;66;03m# for win probability\u001b[39;00m\n\u001b[32m      5\u001b[39m X_second = pd.read_csv(C.PROC / \u001b[33m\"\u001b[39m\u001b[33mX_second.csv\u001b[39m\u001b[33m\"\u001b[39m)\n\u001b[32m----> \u001b[39m\u001b[32m6\u001b[39m \u001b[38;5;28;01mwith\u001b[39;00m \u001b[38;5;28;43mopen\u001b[39;49m\u001b[43m(\u001b[49m\u001b[33;43m\"\u001b[39;49m\u001b[33;43mmodels/winprob_features.json\u001b[39;49m\u001b[33;43m\"\u001b[39;49m\u001b[43m,\u001b[49m\u001b[43m \u001b[49m\u001b[33;43m\"\u001b[39;49m\u001b[33;43mw\u001b[39;49m\u001b[33;43m\"\u001b[39;49m\u001b[43m)\u001b[49m \u001b[38;5;28;01mas\u001b[39;00m f:\n\u001b[32m      7\u001b[39m     json.dump(\u001b[38;5;28mlist\u001b[39m(X_second.columns), f)\n\u001b[32m      9\u001b[39m \u001b[38;5;66;03m# for first-innings score\u001b[39;00m\n",
      "\u001b[36mFile \u001b[39m\u001b[32m~/anaconda3/envs/cricket/lib/python3.11/site-packages/IPython/core/interactiveshell.py:343\u001b[39m, in \u001b[36m_modified_open\u001b[39m\u001b[34m(file, *args, **kwargs)\u001b[39m\n\u001b[32m    336\u001b[39m \u001b[38;5;28;01mif\u001b[39;00m file \u001b[38;5;129;01min\u001b[39;00m {\u001b[32m0\u001b[39m, \u001b[32m1\u001b[39m, \u001b[32m2\u001b[39m}:\n\u001b[32m    337\u001b[39m     \u001b[38;5;28;01mraise\u001b[39;00m \u001b[38;5;167;01mValueError\u001b[39;00m(\n\u001b[32m    338\u001b[39m         \u001b[33mf\u001b[39m\u001b[33m\"\u001b[39m\u001b[33mIPython won\u001b[39m\u001b[33m'\u001b[39m\u001b[33mt let you open fd=\u001b[39m\u001b[38;5;132;01m{\u001b[39;00mfile\u001b[38;5;132;01m}\u001b[39;00m\u001b[33m by default \u001b[39m\u001b[33m\"\u001b[39m\n\u001b[32m    339\u001b[39m         \u001b[33m\"\u001b[39m\u001b[33mas it is likely to crash IPython. If you know what you are doing, \u001b[39m\u001b[33m\"\u001b[39m\n\u001b[32m    340\u001b[39m         \u001b[33m\"\u001b[39m\u001b[33myou can use builtins\u001b[39m\u001b[33m'\u001b[39m\u001b[33m open.\u001b[39m\u001b[33m\"\u001b[39m\n\u001b[32m    341\u001b[39m     )\n\u001b[32m--> \u001b[39m\u001b[32m343\u001b[39m \u001b[38;5;28;01mreturn\u001b[39;00m \u001b[43mio_open\u001b[49m\u001b[43m(\u001b[49m\u001b[43mfile\u001b[49m\u001b[43m,\u001b[49m\u001b[43m \u001b[49m\u001b[43m*\u001b[49m\u001b[43margs\u001b[49m\u001b[43m,\u001b[49m\u001b[43m \u001b[49m\u001b[43m*\u001b[49m\u001b[43m*\u001b[49m\u001b[43mkwargs\u001b[49m\u001b[43m)\u001b[49m\n",
      "\u001b[31mFileNotFoundError\u001b[39m: [Errno 2] No such file or directory: 'models/winprob_features.json'"
     ]
    }
   ],
   "source": [
    "import json, config as C\n",
    "import pandas as pd\n",
    "\n",
    "# for win probability\n",
    "X_second = pd.read_csv(C.PROC / \"X_second.csv\")\n",
    "with open(\"models/winprob_features.json\", \"w\") as f:\n",
    "    json.dump(list(X_second.columns), f)\n",
    "\n",
    "# for first-innings score\n",
    "X_first = pd.read_csv(C.PROC / \"X_first.csv\")\n",
    "with open(\"models/score_features.json\", \"w\") as f:\n",
    "    json.dump(list(X_first.columns), f)\n",
    "\n",
    "print(\"Saved feature schemas to models/\")"
   ]
  },
  {
   "cell_type": "code",
   "execution_count": null,
   "id": "b3e6b07c-c9aa-4afe-b0fd-3d60fc62be6c",
   "metadata": {},
   "outputs": [],
   "source": []
  },
  {
   "cell_type": "code",
   "execution_count": null,
   "id": "26480c62-ecb9-480a-98ce-ec895bd80f16",
   "metadata": {},
   "outputs": [],
   "source": []
  }
 ],
 "metadata": {
  "kernelspec": {
   "display_name": "Python [conda env:cricket]",
   "language": "python",
   "name": "conda-env-cricket-py"
  },
  "language_info": {
   "codemirror_mode": {
    "name": "ipython",
    "version": 3
   },
   "file_extension": ".py",
   "mimetype": "text/x-python",
   "name": "python",
   "nbconvert_exporter": "python",
   "pygments_lexer": "ipython3",
   "version": "3.11.13"
  }
 },
 "nbformat": 4,
 "nbformat_minor": 5
}
